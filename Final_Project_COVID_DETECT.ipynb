{
  "nbformat": 4,
  "nbformat_minor": 0,
  "metadata": {
    "colab": {
      "name": "Copy of Copy of COVID_DETECT.ipynb",
      "provenance": [],
      "collapsed_sections": [],
      "include_colab_link": true
    },
    "kernelspec": {
      "name": "python3",
      "display_name": "Python 3"
    }
  },
  "cells": [
    {
      "cell_type": "markdown",
      "metadata": {
        "id": "view-in-github",
        "colab_type": "text"
      },
      "source": [
        "<a href=\"https://colab.research.google.com/github/abbas-aljawad/Machine-Learning/blob/master/Final_Project_COVID_DETECT.ipynb\" target=\"_parent\"><img src=\"https://colab.research.google.com/assets/colab-badge.svg\" alt=\"Open In Colab\"/></a>"
      ]
    },
    {
      "cell_type": "markdown",
      "metadata": {
        "id": "Gxnx24pcA6Kh",
        "colab_type": "text"
      },
      "source": [
        " 50 total images, equally split with 25 images of COVID-19 positive X-rays and 25 images of healthy patient X-rays"
      ]
    },
    {
      "cell_type": "markdown",
      "metadata": {
        "id": "5LnWjH4ZCFb0",
        "colab_type": "text"
      },
      "source": [
        "we will be tuning a Convolutional Neural Network to automatically diagnose COVID-19 using Keras, TensorFlow, and deep learning."
      ]
    },
    {
      "cell_type": "markdown",
      "metadata": {
        "id": "5WLLdH_lCji7",
        "colab_type": "text"
      },
      "source": [
        "first we will take care of the necessary packages to import\n",
        "TensorFlow 2.0 and Keras deep learning libraries via a selection of tensorflow.keras imports\n",
        "matplotlib for plotting, and OpenCV for loading and preprocessing images in the dataset."
      ]
    },
    {
      "cell_type": "code",
      "metadata": {
        "id": "gEjp9NuPCTYs",
        "colab_type": "code",
        "colab": {}
      },
      "source": [
        "# import the necessary packages\n",
        "from tensorflow.keras.preprocessing.image import ImageDataGenerator\n",
        "from tensorflow.keras.applications import VGG16\n",
        "from tensorflow.keras.layers import AveragePooling2D\n",
        "from tensorflow.keras.layers import Dropout\n",
        "from tensorflow.keras.layers import Flatten\n",
        "from tensorflow.keras.layers import Dense\n",
        "from tensorflow.keras.layers import Input\n",
        "from tensorflow.keras.models import Model\n",
        "from tensorflow.keras.optimizers import Adam\n",
        "from tensorflow.keras.utils import to_categorical\n",
        "from sklearn.preprocessing import LabelBinarizer\n",
        "from sklearn.model_selection import train_test_split\n",
        "from sklearn.metrics import classification_report\n",
        "from sklearn.metrics import confusion_matrix\n",
        "from imutils import paths\n",
        "import matplotlib.pyplot as plt\n",
        "import numpy as np\n",
        "import argparse\n",
        "import cv2\n",
        "import os"
      ],
      "execution_count": null,
      "outputs": []
    },
    {
      "cell_type": "code",
      "metadata": {
        "id": "z7Ze1q4SJg93",
        "colab_type": "code",
        "colab": {
          "base_uri": "https://localhost:8080/",
          "height": 54
        },
        "outputId": "6bfb1a7f-c3b0-429b-d592-7b6d5f29a277"
      },
      "source": [
        "from google.colab import drive\n",
        "drive.mount('/content/drive')\n",
        "\n",
        "data_set_path='/content/drive/My Drive/ML_COVID_classifier/dataset'\n",
        "plot_path='/content/drive/My Drive/ML_COVID_classifier/plot.png'\n",
        "mol_p='/content/drive/My Drive/ML_COVID_classifier/covid19.model'\n"
      ],
      "execution_count": null,
      "outputs": [
        {
          "output_type": "stream",
          "text": [
            "Drive already mounted at /content/drive; to attempt to forcibly remount, call drive.mount(\"/content/drive\", force_remount=True).\n"
          ],
          "name": "stdout"
        }
      ]
    },
    {
      "cell_type": "markdown",
      "metadata": {
        "id": "9rYJXTV_DumB",
        "colab_type": "text"
      },
      "source": [
        ""
      ]
    },
    {
      "cell_type": "code",
      "metadata": {
        "id": "XPYNTe-wD42r",
        "colab_type": "code",
        "colab": {}
      },
      "source": [
        "\n",
        "\n",
        "# initialize the initial learning rate, number of epochs to train for,\n",
        "# and batch size\n",
        "INIT_LR = 1e-3\n",
        "EPOCHS = 25\n",
        "BS = 8"
      ],
      "execution_count": null,
      "outputs": []
    },
    {
      "cell_type": "markdown",
      "metadata": {
        "id": "PtBye3CkD6Fu",
        "colab_type": "text"
      },
      "source": [
        "we will  preprocess our X-ray data\n",
        "Extract the class label (either covid or normal) from the path of each image\n",
        "to shape the image in orderto be ready to be inserted as aninput for the CNN it will be resized to 224x224 and converted to RGB ordering.\n",
        "We then scale pixel intensities to the range [0, 1] and convert both our data and labels to NumPy array format"
      ]
    },
    {
      "cell_type": "code",
      "metadata": {
        "id": "TcDDbXbQFJP2",
        "colab_type": "code",
        "colab": {
          "base_uri": "https://localhost:8080/",
          "height": 34
        },
        "outputId": "92570042-eb54-4369-865a-32d8f1c440a2"
      },
      "source": [
        "# grab the list of images in our dataset directory, then initialize\n",
        "# the list of data (i.e., images) and class images\n",
        "print(\"[INFO] loading images...\")\n",
        "imagePaths = list(paths.list_images(data_set_path))\n",
        "data = []\n",
        "labels = []\n",
        "# loop over the image paths\n",
        "for imagePath in imagePaths:\n",
        "\t# extract the class label from the filename\n",
        "\tlabel = imagePath.split(os.path.sep)[-2]\n",
        "\t# load the image, swap color channels, and resize it to be a fixed\n",
        "\t# 224x224 pixels while ignoring aspect ratio\n",
        "\timage = cv2.imread(imagePath)\n",
        "\timage = cv2.cvtColor(image, cv2.COLOR_BGR2RGB)\n",
        "\timage = cv2.resize(image, (224, 224))\n",
        "\t# update the data and labels lists, respectively\n",
        "\tdata.append(image)\n",
        "\tlabels.append(label)\n",
        "# convert the data and labels to NumPy arrays while scaling the pixel\n",
        "# intensities to the range [0, 1]\n",
        "data = np.array(data) / 255.0\n",
        "labels = np.array(labels)"
      ],
      "execution_count": null,
      "outputs": [
        {
          "output_type": "stream",
          "text": [
            "[INFO] loading images...\n"
          ],
          "name": "stdout"
        }
      ]
    },
    {
      "cell_type": "markdown",
      "metadata": {
        "id": "GCiwoWCZFOpk",
        "colab_type": "text"
      },
      "source": [
        "create our training and testing splits"
      ]
    },
    {
      "cell_type": "code",
      "metadata": {
        "id": "7Bt37r6HFUse",
        "colab_type": "code",
        "colab": {}
      },
      "source": [
        "# perform one-hot encoding on the labels\n",
        "lb = LabelBinarizer()\n",
        "labels = lb.fit_transform(labels)\n",
        "labels = to_categorical(labels)\n",
        "# partition the data into training and testing splits using 80% of\n",
        "# the data for training and the remaining 20% for testing\n",
        "(trainX, testX, trainY, testY) = train_test_split(data, labels,\n",
        "\ttest_size=0.20, stratify=labels, random_state=42)\n",
        "# initialize the training data augmentation object\n",
        "trainAug = ImageDataGenerator(\n",
        "\trotation_range=15,\n",
        "\tfill_mode=\"nearest\")\n"
      ],
      "execution_count": null,
      "outputs": []
    },
    {
      "cell_type": "markdown",
      "metadata": {
        "id": "nMokHZ6VweI7",
        "colab_type": "text"
      },
      "source": [
        " initialize our VGGNet model\n",
        " instantiate the VGG16 network with weights pre-trained on ImageNet, leaving off the FC layer head.\n",
        "From there, we construct a new fully-connected layer head consisting of POOL => FC = SOFTMAX layers and append it on top of VGG16."
      ]
    },
    {
      "cell_type": "code",
      "metadata": {
        "id": "bN4GKlgqtQCC",
        "colab_type": "code",
        "colab": {}
      },
      "source": [
        "# load the VGG16 network, ensuring the head FC layer sets are left\n",
        "# off\n",
        "baseModel = VGG16(weights=\"imagenet\", include_top=False,\n",
        "\tinput_tensor=Input(shape=(224, 224, 3)))\n",
        "# construct the head of the model that will be placed on top of the\n",
        "# the base model\n",
        "headModel = baseModel.output\n",
        "headModel = AveragePooling2D(pool_size=(4, 4))(headModel)\n",
        "headModel = Flatten(name=\"flatten\")(headModel)\n",
        "headModel = Dense(64, activation=\"relu\")(headModel)\n",
        "headModel = Dropout(0.5)(headModel)\n",
        "headModel = Dense(2, activation=\"softmax\")(headModel)\n",
        "# place the head FC model on top of the base model (this will become\n",
        "# the actual model we will train)\n",
        "model = Model(inputs=baseModel.input, outputs=headModel)\n",
        "# loop over all layers in the base model and freeze them so they will\n",
        "# *not* be updated during the first training process\n",
        "for layer in baseModel.layers:\n",
        "\tlayer.trainable = False"
      ],
      "execution_count": null,
      "outputs": []
    },
    {
      "cell_type": "code",
      "metadata": {
        "id": "pmykkR5U1dU4",
        "colab_type": "code",
        "colab": {
          "base_uri": "https://localhost:8080/",
          "height": 921
        },
        "outputId": "3f924825-0ed7-4e8d-c0dc-0b8cf5738e93"
      },
      "source": [
        "# compile our model\n",
        "print(\"[INFO] compiling model...\")\n",
        "opt = Adam(lr=INIT_LR, decay=INIT_LR / EPOCHS)\n",
        "model.compile(loss=\"binary_crossentropy\", optimizer=opt,metrics=[\"accuracy\"])\n",
        "# train the head of the network\n",
        "print(\"[INFO] training head...\")\n",
        "H = model.fit_generator(\n",
        "\ttrainAug.flow(trainX, trainY, batch_size=BS),\n",
        "\tsteps_per_epoch=len(trainX) // BS,\n",
        "\tvalidation_data=(testX, testY),\n",
        "\tvalidation_steps=len(testX) // BS,\n",
        "\tepochs=EPOCHS)"
      ],
      "execution_count": null,
      "outputs": [
        {
          "output_type": "stream",
          "text": [
            "[INFO] compiling model...\n",
            "[INFO] training head...\n",
            "Epoch 1/25\n",
            "5/5 [==============================] - 21s 4s/step - loss: 0.2794 - accuracy: 0.9750 - val_loss: 0.4307 - val_accuracy: 0.8000\n",
            "Epoch 2/25\n",
            "5/5 [==============================] - 21s 4s/step - loss: 0.3244 - accuracy: 0.9000 - val_loss: 0.4057 - val_accuracy: 0.8000\n",
            "Epoch 3/25\n",
            "5/5 [==============================] - 21s 4s/step - loss: 0.2576 - accuracy: 0.9500 - val_loss: 0.4156 - val_accuracy: 0.8000\n",
            "Epoch 4/25\n",
            "5/5 [==============================] - 21s 4s/step - loss: 0.2576 - accuracy: 0.9500 - val_loss: 0.4074 - val_accuracy: 0.8000\n",
            "Epoch 5/25\n",
            "5/5 [==============================] - 21s 4s/step - loss: 0.2982 - accuracy: 0.9000 - val_loss: 0.4006 - val_accuracy: 0.8000\n",
            "Epoch 6/25\n",
            "5/5 [==============================] - 21s 4s/step - loss: 0.2542 - accuracy: 0.9250 - val_loss: 0.3773 - val_accuracy: 0.8000\n",
            "Epoch 7/25\n",
            "5/5 [==============================] - 21s 4s/step - loss: 0.2603 - accuracy: 0.9250 - val_loss: 0.3679 - val_accuracy: 0.8000\n",
            "Epoch 8/25\n",
            "5/5 [==============================] - 21s 4s/step - loss: 0.2000 - accuracy: 1.0000 - val_loss: 0.3781 - val_accuracy: 0.8000\n",
            "Epoch 9/25\n",
            "5/5 [==============================] - 21s 4s/step - loss: 0.2450 - accuracy: 0.9000 - val_loss: 0.3827 - val_accuracy: 0.8000\n",
            "Epoch 10/25\n",
            "5/5 [==============================] - 21s 4s/step - loss: 0.2131 - accuracy: 0.9750 - val_loss: 0.3653 - val_accuracy: 0.8000\n",
            "Epoch 11/25\n",
            "5/5 [==============================] - 21s 4s/step - loss: 0.2244 - accuracy: 0.9500 - val_loss: 0.3600 - val_accuracy: 0.8000\n",
            "Epoch 12/25\n",
            "5/5 [==============================] - 21s 4s/step - loss: 0.2144 - accuracy: 0.9000 - val_loss: 0.4277 - val_accuracy: 0.8000\n",
            "Epoch 13/25\n",
            "5/5 [==============================] - 21s 4s/step - loss: 0.1786 - accuracy: 0.9500 - val_loss: 0.4297 - val_accuracy: 0.8000\n",
            "Epoch 14/25\n",
            "5/5 [==============================] - 21s 4s/step - loss: 0.1865 - accuracy: 0.9500 - val_loss: 0.3851 - val_accuracy: 0.8000\n",
            "Epoch 15/25\n",
            "5/5 [==============================] - 21s 4s/step - loss: 0.1481 - accuracy: 0.9750 - val_loss: 0.3568 - val_accuracy: 0.8000\n",
            "Epoch 16/25\n",
            "5/5 [==============================] - 21s 4s/step - loss: 0.1679 - accuracy: 0.9750 - val_loss: 0.3486 - val_accuracy: 0.8000\n",
            "Epoch 17/25\n",
            "5/5 [==============================] - 21s 4s/step - loss: 0.1632 - accuracy: 1.0000 - val_loss: 0.3638 - val_accuracy: 0.8000\n",
            "Epoch 18/25\n",
            "5/5 [==============================] - 21s 4s/step - loss: 0.1900 - accuracy: 0.9500 - val_loss: 0.4277 - val_accuracy: 0.8000\n",
            "Epoch 19/25\n",
            "5/5 [==============================] - 21s 4s/step - loss: 0.1780 - accuracy: 0.9500 - val_loss: 0.4341 - val_accuracy: 0.8000\n",
            "Epoch 20/25\n",
            "5/5 [==============================] - 21s 4s/step - loss: 0.1541 - accuracy: 0.9500 - val_loss: 0.3743 - val_accuracy: 0.8000\n",
            "Epoch 21/25\n",
            "5/5 [==============================] - 26s 5s/step - loss: 0.1145 - accuracy: 1.0000 - val_loss: 0.3555 - val_accuracy: 0.8000\n",
            "Epoch 22/25\n",
            "5/5 [==============================] - 21s 4s/step - loss: 0.1365 - accuracy: 1.0000 - val_loss: 0.3718 - val_accuracy: 0.8000\n",
            "Epoch 23/25\n",
            "5/5 [==============================] - 21s 4s/step - loss: 0.1346 - accuracy: 0.9750 - val_loss: 0.4605 - val_accuracy: 0.8000\n",
            "Epoch 24/25\n",
            "5/5 [==============================] - 21s 4s/step - loss: 0.1608 - accuracy: 0.9250 - val_loss: 0.4061 - val_accuracy: 0.8000\n",
            "Epoch 25/25\n",
            "5/5 [==============================] - 21s 4s/step - loss: 0.1110 - accuracy: 1.0000 - val_loss: 0.3814 - val_accuracy: 0.8000\n"
          ],
          "name": "stdout"
        }
      ]
    },
    {
      "cell_type": "markdown",
      "metadata": {
        "id": "bt2O29tg1jo-",
        "colab_type": "text"
      },
      "source": [
        "evaluate the model"
      ]
    },
    {
      "cell_type": "code",
      "metadata": {
        "id": "3oVLywP922WQ",
        "colab_type": "code",
        "colab": {
          "base_uri": "https://localhost:8080/",
          "height": 187
        },
        "outputId": "2bfafd9d-496e-4358-d11f-e75f856c3ded"
      },
      "source": [
        "# make predictions on the testing set\n",
        "print(\"[INFO] evaluating network...\")\n",
        "predIdxs = model.predict(testX, batch_size=BS)\n",
        "# for each image in the testing set we need to find the index of the\n",
        "# label with corresponding largest predicted probability\n",
        "predIdxs = np.argmax(predIdxs, axis=1)\n",
        "# show a nicely formatted classification report\n",
        "print(classification_report(testY.argmax(axis=1), predIdxs,\n",
        "\ttarget_names=lb.classes_))"
      ],
      "execution_count": null,
      "outputs": [
        {
          "output_type": "stream",
          "text": [
            "[INFO] evaluating network...\n",
            "              precision    recall  f1-score   support\n",
            "\n",
            "       covid       0.71      1.00      0.83         5\n",
            "      normal       1.00      0.60      0.75         5\n",
            "\n",
            "    accuracy                           0.80        10\n",
            "   macro avg       0.86      0.80      0.79        10\n",
            "weighted avg       0.86      0.80      0.79        10\n",
            "\n"
          ],
          "name": "stdout"
        }
      ]
    },
    {
      "cell_type": "markdown",
      "metadata": {
        "id": "Cg0_-k5d3Otf",
        "colab_type": "text"
      },
      "source": [
        "Generate a confusion matrix \n",
        "Use the confusion matrix to derive the accuracy, sensitivity, and specificity and print each of these metrics."
      ]
    },
    {
      "cell_type": "code",
      "metadata": {
        "id": "Gl_PlXq74nJ6",
        "colab_type": "code",
        "colab": {
          "base_uri": "https://localhost:8080/",
          "height": 102
        },
        "outputId": "d5d8fcf9-f9a2-4f61-ad7e-dc60f76d8349"
      },
      "source": [
        "# compute the confusion matrix and and use it to derive the raw\n",
        "# accuracy, sensitivity, and specificity\n",
        "cm = confusion_matrix(testY.argmax(axis=1), predIdxs)\n",
        "total = sum(sum(cm))\n",
        "acc = (cm[0, 0] + cm[1, 1]) / total\n",
        "sensitivity = cm[0, 0] / (cm[0, 0] + cm[0, 1])\n",
        "specificity = cm[1, 1] / (cm[1, 0] + cm[1, 1])\n",
        "# show the confusion matrix, accuracy, sensitivity, and specificity\n",
        "print(cm)\n",
        "print(\"acc: {:.4f}\".format(acc))\n",
        "print(\"sensitivity: {:.4f}\".format(sensitivity))\n",
        "print(\"specificity: {:.4f}\".format(specificity))"
      ],
      "execution_count": null,
      "outputs": [
        {
          "output_type": "stream",
          "text": [
            "[[5 0]\n",
            " [2 3]]\n",
            "acc: 0.8000\n",
            "sensitivity: 1.0000\n",
            "specificity: 0.6000\n"
          ],
          "name": "stdout"
        }
      ]
    },
    {
      "cell_type": "markdown",
      "metadata": {
        "id": "UwVO_6WF4rCo",
        "colab_type": "text"
      },
      "source": [
        "We then plot our training accuracy/loss history for inspection, outputting the plot to an image file"
      ]
    },
    {
      "cell_type": "code",
      "metadata": {
        "id": "2uCliF6x4wlj",
        "colab_type": "code",
        "colab": {
          "base_uri": "https://localhost:8080/",
          "height": 299
        },
        "outputId": "dc51366f-90f8-4abc-cb53-81980eb5644f"
      },
      "source": [
        "# plot the training loss and accuracy\n",
        "N = EPOCHS\n",
        "plt.style.use(\"ggplot\")\n",
        "plt.figure()\n",
        "plt.plot(np.arange(0, N), H.history[\"loss\"], label=\"train_loss\")\n",
        "plt.plot(np.arange(0, N), H.history[\"val_loss\"], label=\"val_loss\")\n",
        "plt.plot(np.arange(0, N), H.history[\"accuracy\"], label=\"train_acc\")\n",
        "plt.plot(np.arange(0, N), H.history[\"val_accuracy\"], label=\"val_acc\")\n",
        "plt.title(\"Training Loss and Accuracy on COVID-19 Dataset\")\n",
        "plt.xlabel(\"Epoch #\")\n",
        "plt.ylabel(\"Loss/Accuracy\")\n",
        "plt.legend(loc=\"lower left\")\n",
        "plt.savefig('/content/drive/My Drive/ML_COVID_classifier/plot.png')"
      ],
      "execution_count": null,
      "outputs": [
        {
          "output_type": "display_data",
          "data": {
            "image/png": "[encoded data removed]",
            "text/plain": [
              "<Figure size 432x288 with 1 Axes>"
            ]
          },
          "metadata": {
            "tags": []
          }
        }
      ]
    },
    {
      "cell_type": "markdown",
      "metadata": {
        "id": "caUMC5AY40BD",
        "colab_type": "text"
      },
      "source": [
        "Finally we serialize our tf.keras COVID-19 classifier model to disk"
      ]
    },
    {
      "cell_type": "code",
      "metadata": {
        "id": "ef-2ETnS5LN2",
        "colab_type": "code",
        "colab": {}
      },
      "source": [
        "# serialize the model to disk\n",
        "print(\"[INFO] saving COVID-19 detector model...\")\n",
        "model.save(args[\"model\"], save_format=\"h5\")"
      ],
      "execution_count": null,
      "outputs": []
    }
  ]
}